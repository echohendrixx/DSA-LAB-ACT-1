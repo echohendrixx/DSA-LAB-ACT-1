{
 "cells": [
  {
   "cell_type": "markdown",
   "metadata": {},
   "source": [
    "Exercise #1"
   ]
  },
  {
   "cell_type": "code",
   "execution_count": null,
   "metadata": {},
   "outputs": [],
   "source": [
    "temp = float(input(\"Please input the temperature you want to convert: \"))\n",
    "unit = input(\"Please input the type of conversion you want to perform. Type CF in you want to convert Celsius to Farenheit or FC if you want to convert Farenheit to Celsius\").upper()\n",
    "\n",
    "if unit == \"CF\":\n",
    "    print(f\"{temp}°C is equal to {temp * 9/5 + 32}\")\n",
    "elif unit == \"FC\":\n",
    "    print(f\"{temp}°C is equal to {(5/9 * (temp - 32))}\")\n",
    "else:\n",
    "    print(\"Invalid input. Please try again.\")"
   ]
  },
  {
   "cell_type": "markdown",
   "metadata": {},
   "source": [
    "Exercise #2"
   ]
  },
  {
   "cell_type": "code",
   "execution_count": null,
   "metadata": {},
   "outputs": [],
   "source": [
    "ohmslaw = input(\"What do you want to calculate? Enter 'V' to calculate for Voltage, 'I' for Current, and 'R' for Resistance\").upper()\n",
    "\n",
    "try:\n",
    "    if ohmslaw == \"V\":\n",
    "        I = float(input(\"Please input the value of the Current.\"))\n",
    "        R = float(input(\"Please input the value of the Resistance.\"))\n",
    "        V = I * R\n",
    "        print(f\"The Voltage is equal to {V}\")\n",
    "    elif ohmslaw == \"I\":\n",
    "        V = float(input(\"Please input the value of the Voltage.\"))\n",
    "        R = float(input(\"Please input the value of the Resistance.\"))\n",
    "        I = V / R\n",
    "        print(f\"The Current is equal to {I}\")\n",
    "    elif ohmslaw == \"R\":\n",
    "        V = float(input(\"Please input the value of the Voltage.\"))\n",
    "        I = float(input(\"Please input the value of the Current.\"))\n",
    "        R = V / I\n",
    "        print(f\"The Resistance is equal to {R}\")\n",
    "    else:\n",
    "        print(\"Invalid input. Please enter 'V', 'I', or 'R'\")\n",
    "\n",
    "except ZeroDivisionError as e:\n",
    "    print(f\"Error: {e}\")\n",
    "\n",
    "except ValueError as e:\n",
    "    print(f\"Error: {e}\")"
   ]
  },
  {
   "cell_type": "markdown",
   "metadata": {},
   "source": [
    "Exercise #3"
   ]
  },
  {
   "cell_type": "code",
   "execution_count": null,
   "metadata": {},
   "outputs": [],
   "source": [
    "width = int(input(\"Please input the width of the diamond you want to create: \"))\n",
    "\n",
    "if width % 2 == 1:\n",
    "    for i in range (width//2 + 1):\n",
    "        print(\" \" * (width//2 - i) + \"*\" * (2 * i + 1))\n",
    "    for i in range(width//2 -1, -1, -1):\n",
    "        print(\" \" * (width//2 - i) + \"*\" * (2 * i + 1))\n",
    "else:\n",
    "    print(\"Please provide an odd integer!\")"
   ]
  }
 ],
 "metadata": {
  "kernelspec": {
   "display_name": "Python 3",
   "language": "python",
   "name": "python3"
  },
  "language_info": {
   "name": "python",
   "version": "3.12.0"
  }
 },
 "nbformat": 4,
 "nbformat_minor": 2
}
